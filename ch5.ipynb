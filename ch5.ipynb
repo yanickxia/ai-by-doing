{
 "cells": [
  {
   "cell_type": "code",
   "execution_count": 1,
   "id": "19a232f1-9308-46ad-9f38-dd551fd1ddff",
   "metadata": {},
   "outputs": [
    {
     "ename": "NameError",
     "evalue": "name 'np' is not defined",
     "output_type": "error",
     "traceback": [
      "\u001b[0;31m---------------------------------------------------------------------------\u001b[0m",
      "\u001b[0;31mNameError\u001b[0m                                 Traceback (most recent call last)",
      "Cell \u001b[0;32mIn[1], line 6\u001b[0m\n\u001b[1;32m      2\u001b[0m x \u001b[38;5;241m=\u001b[39m [\u001b[38;5;241m4\u001b[39m, \u001b[38;5;241m8\u001b[39m, \u001b[38;5;241m12\u001b[39m, \u001b[38;5;241m25\u001b[39m, \u001b[38;5;241m32\u001b[39m, \u001b[38;5;241m43\u001b[39m, \u001b[38;5;241m58\u001b[39m, \u001b[38;5;241m63\u001b[39m, \u001b[38;5;241m69\u001b[39m, \u001b[38;5;241m79\u001b[39m]\n\u001b[1;32m      3\u001b[0m y \u001b[38;5;241m=\u001b[39m [\u001b[38;5;241m20\u001b[39m, \u001b[38;5;241m33\u001b[39m, \u001b[38;5;241m50\u001b[39m, \u001b[38;5;241m56\u001b[39m, \u001b[38;5;241m42\u001b[39m, \u001b[38;5;241m31\u001b[39m, \u001b[38;5;241m33\u001b[39m, \u001b[38;5;241m46\u001b[39m, \u001b[38;5;241m65\u001b[39m, \u001b[38;5;241m75\u001b[39m]\n\u001b[0;32m----> 6\u001b[0m x \u001b[38;5;241m=\u001b[39m \u001b[43mnp\u001b[49m\u001b[38;5;241m.\u001b[39marray(x)\u001b[38;5;241m.\u001b[39mreshape(\u001b[38;5;28mlen\u001b[39m(x), \u001b[38;5;241m1\u001b[39m)  \u001b[38;5;66;03m# 转换为列向量\u001b[39;00m\n\u001b[1;32m      7\u001b[0m y \u001b[38;5;241m=\u001b[39m np\u001b[38;5;241m.\u001b[39marray(y)\u001b[38;5;241m.\u001b[39mreshape(\u001b[38;5;28mlen\u001b[39m(y), \u001b[38;5;241m1\u001b[39m)\n\u001b[1;32m      9\u001b[0m \u001b[38;5;66;03m# 使用 sklearn 得到 2 次多项式回归特征矩阵\u001b[39;00m\n",
      "\u001b[0;31mNameError\u001b[0m: name 'np' is not defined"
     ]
    }
   ],
   "source": [
    "# 加载示例数据\n",
    "x = [4, 8, 12, 25, 32, 43, 58, 63, 69, 79]\n",
    "y = [20, 33, 50, 56, 42, 31, 33, 46, 65, 75]\n",
    "\n",
    "\n",
    "x = np.array(x).reshape(len(x), 1)  # 转换为列向量\n",
    "y = np.array(y).reshape(len(y), 1)\n",
    "\n",
    "# 使用 sklearn 得到 2 次多项式回归特征矩阵\n",
    "poly_features = PolynomialFeatures(degree=2, include_bias=False)\n",
    "poly_x = poly_features.fit_transform(x)\n",
    "\n",
    "from sklearn.linear_model import LinearRegression\n",
    "\n",
    "# 定义线性回归模型\n",
    "model = LinearRegression()\n",
    "model.fit(poly_x, y)  # 训练\n",
    "\n",
    "# 得到模型拟合参数\n",
    "model.intercept_, model.coef_\n",
    "\n",
    "\n",
    "# 绘制拟合图像\n",
    "x_temp = np.array(x_temp).reshape(len(x_temp), 1)\n",
    "poly_x_temp = poly_features.fit_transform(x_temp)\n",
    "\n",
    "plt.plot(x_temp, model.predict(poly_x_temp), \"r\")\n",
    "plt.scatter(x, y)"
   ]
  },
  {
   "cell_type": "code",
   "execution_count": 2,
   "id": "bba1d635-4444-4067-ab4c-3c36dc29f6c9",
   "metadata": {},
   "outputs": [
    {
     "ename": "NameError",
     "evalue": "name 'PolynomialFeatures' is not defined",
     "output_type": "error",
     "traceback": [
      "\u001b[0;31m---------------------------------------------------------------------------\u001b[0m",
      "\u001b[0;31mNameError\u001b[0m                                 Traceback (most recent call last)",
      "Cell \u001b[0;32mIn[2], line 15\u001b[0m\n\u001b[1;32m     12\u001b[0m y \u001b[38;5;241m=\u001b[39m np\u001b[38;5;241m.\u001b[39marray(y)\u001b[38;5;241m.\u001b[39mreshape(\u001b[38;5;28mlen\u001b[39m(y), \u001b[38;5;241m1\u001b[39m)\n\u001b[1;32m     14\u001b[0m \u001b[38;5;66;03m# 使用 sklearn 得到 2 次多项式回归特征矩阵\u001b[39;00m\n\u001b[0;32m---> 15\u001b[0m poly_features \u001b[38;5;241m=\u001b[39m \u001b[43mPolynomialFeatures\u001b[49m(degree\u001b[38;5;241m=\u001b[39m\u001b[38;5;241m2\u001b[39m, include_bias\u001b[38;5;241m=\u001b[39m\u001b[38;5;28;01mFalse\u001b[39;00m)\n\u001b[1;32m     16\u001b[0m poly_x \u001b[38;5;241m=\u001b[39m poly_features\u001b[38;5;241m.\u001b[39mfit_transform(x)\n\u001b[1;32m     18\u001b[0m \u001b[38;5;28;01mfrom\u001b[39;00m \u001b[38;5;21;01msklearn\u001b[39;00m\u001b[38;5;21;01m.\u001b[39;00m\u001b[38;5;21;01mlinear_model\u001b[39;00m \u001b[38;5;28;01mimport\u001b[39;00m LinearRegression\n",
      "\u001b[0;31mNameError\u001b[0m: name 'PolynomialFeatures' is not defined"
     ]
    }
   ],
   "source": [
    "import numpy as np\n",
    "from matplotlib import pyplot as plt\n",
    "\n",
    "%matplotlib inline\n",
    "\n",
    "# 加载示例数据\n",
    "x = [4, 8, 12, 25, 32, 43, 58, 63, 69, 79]\n",
    "y = [20, 33, 50, 56, 42, 31, 33, 46, 65, 75]\n",
    "\n",
    "\n",
    "x = np.array(x).reshape(len(x), 1)  # 转换为列向量\n",
    "y = np.array(y).reshape(len(y), 1)\n",
    "\n",
    "# 使用 sklearn 得到 2 次多项式回归特征矩阵\n",
    "poly_features = PolynomialFeatures(degree=2, include_bias=False)\n",
    "poly_x = poly_features.fit_transform(x)\n",
    "\n",
    "from sklearn.linear_model import LinearRegression\n",
    "\n",
    "# 定义线性回归模型\n",
    "model = LinearRegression()\n",
    "model.fit(poly_x, y)  # 训练\n",
    "\n",
    "# 得到模型拟合参数\n",
    "model.intercept_, model.coef_\n",
    "\n",
    "\n",
    "# 绘制拟合图像\n",
    "x_temp = np.array(x_temp).reshape(len(x_temp), 1)\n",
    "poly_x_temp = poly_features.fit_transform(x_temp)\n",
    "\n",
    "plt.plot(x_temp, model.predict(poly_x_temp), \"r\")\n",
    "plt.scatter(x, y)"
   ]
  },
  {
   "cell_type": "code",
   "execution_count": 3,
   "id": "512742cd-9dbc-4c0d-a6f6-60b13a15c74b",
   "metadata": {},
   "outputs": [
    {
     "ename": "NameError",
     "evalue": "name 'x_temp' is not defined",
     "output_type": "error",
     "traceback": [
      "\u001b[0;31m---------------------------------------------------------------------------\u001b[0m",
      "\u001b[0;31mNameError\u001b[0m                                 Traceback (most recent call last)",
      "Cell \u001b[0;32mIn[3], line 32\u001b[0m\n\u001b[1;32m     28\u001b[0m model\u001b[38;5;241m.\u001b[39mintercept_, model\u001b[38;5;241m.\u001b[39mcoef_\n\u001b[1;32m     31\u001b[0m \u001b[38;5;66;03m# 绘制拟合图像\u001b[39;00m\n\u001b[0;32m---> 32\u001b[0m x_temp \u001b[38;5;241m=\u001b[39m np\u001b[38;5;241m.\u001b[39marray(\u001b[43mx_temp\u001b[49m)\u001b[38;5;241m.\u001b[39mreshape(\u001b[38;5;28mlen\u001b[39m(x_temp), \u001b[38;5;241m1\u001b[39m)\n\u001b[1;32m     33\u001b[0m poly_x_temp \u001b[38;5;241m=\u001b[39m poly_features\u001b[38;5;241m.\u001b[39mfit_transform(x_temp)\n\u001b[1;32m     35\u001b[0m plt\u001b[38;5;241m.\u001b[39mplot(x_temp, model\u001b[38;5;241m.\u001b[39mpredict(poly_x_temp), \u001b[38;5;124m\"\u001b[39m\u001b[38;5;124mr\u001b[39m\u001b[38;5;124m\"\u001b[39m)\n",
      "\u001b[0;31mNameError\u001b[0m: name 'x_temp' is not defined"
     ]
    }
   ],
   "source": [
    "import numpy as np\n",
    "from matplotlib import pyplot as plt\n",
    "\n",
    "%matplotlib inline\n",
    "\n",
    "# 加载示例数据\n",
    "x = [4, 8, 12, 25, 32, 43, 58, 63, 69, 79]\n",
    "y = [20, 33, 50, 56, 42, 31, 33, 46, 65, 75]\n",
    "\n",
    "\n",
    "x = np.array(x).reshape(len(x), 1)  # 转换为列向量\n",
    "y = np.array(y).reshape(len(y), 1)\n",
    "\n",
    "from sklearn.preprocessing import PolynomialFeatures\n",
    "\n",
    "\n",
    "# 使用 sklearn 得到 2 次多项式回归特征矩阵\n",
    "poly_features = PolynomialFeatures(degree=2, include_bias=False)\n",
    "poly_x = poly_features.fit_transform(x)\n",
    "\n",
    "from sklearn.linear_model import LinearRegression\n",
    "\n",
    "# 定义线性回归模型\n",
    "model = LinearRegression()\n",
    "model.fit(poly_x, y)  # 训练\n",
    "\n",
    "# 得到模型拟合参数\n",
    "model.intercept_, model.coef_\n",
    "\n",
    "\n",
    "# 绘制拟合图像\n",
    "x_temp = np.array(x_temp).reshape(len(x_temp), 1)\n",
    "poly_x_temp = poly_features.fit_transform(x_temp)\n",
    "\n",
    "plt.plot(x_temp, model.predict(poly_x_temp), \"r\")\n",
    "plt.scatter(x, y)"
   ]
  },
  {
   "cell_type": "code",
   "execution_count": null,
   "id": "cca60f77-8643-4bf4-88ec-934f6d35be2a",
   "metadata": {},
   "outputs": [],
   "source": []
  }
 ],
 "metadata": {
  "kernelspec": {
   "display_name": "Python 3 (ipykernel)",
   "language": "python",
   "name": "python3"
  },
  "language_info": {
   "codemirror_mode": {
    "name": "ipython",
    "version": 3
   },
   "file_extension": ".py",
   "mimetype": "text/x-python",
   "name": "python",
   "nbconvert_exporter": "python",
   "pygments_lexer": "ipython3",
   "version": "3.10.14"
  }
 },
 "nbformat": 4,
 "nbformat_minor": 5
}
