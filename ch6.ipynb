{
 "cells": [
  {
   "cell_type": "code",
   "execution_count": 1,
   "id": "f7f5bd7c-f6ab-4d4c-816f-fb2e2a3e4628",
   "metadata": {},
   "outputs": [
    {
     "data": {
      "text/plain": [
       "<matplotlib.collections.PathCollection at 0x7efc5c5ab820>"
      ]
     },
     "execution_count": 1,
     "metadata": {},
     "output_type": "execute_result"
    },
    {
     "data": {
      "image/png": "[encoded data removed]",
      "text/plain": [
       "<Figure size 640x480 with 1 Axes>"
      ]
     },
     "metadata": {},
     "output_type": "display_data"
    }
   ],
   "source": [
    "import numpy as np\n",
    "from matplotlib import pyplot as plt\n",
    "import pandas as pd\n",
    "from sklearn.preprocessing import PolynomialFeatures\n",
    "from sklearn.linear_model import LinearRegression\n",
    "from sklearn.pipeline import make_pipeline\n",
    "from sklearn.metrics import mean_squared_error\n",
    "from sklearn.metrics import mean_absolute_error\n",
    "\n",
    "%matplotlib inline\n",
    "\n",
    "\n",
    "\n",
    "\n",
    "df = pd.read_csv(\"challenge-2-bitcoin.csv\")\n",
    "data = df[['btc_market_price','btc_total_bitcoins', 'btc_transaction_fees']]\n",
    "\n",
    "def split_dataset():\n",
    "    \"\"\"\n",
    "    参数:\n",
    "    无\n",
    "\n",
    "    返回:\n",
    "    X_train, y_train, X_test, y_test -- 训练集特征、训练集目标、测试集特征、测试集目标\n",
    "    \"\"\"\n",
    "    \n",
    "    ### 代码开始 ### (≈ 6 行代码)\n",
    "    train_data = data[:int(len(data)*0.7)]\n",
    "    test_data = data[int(len(data)*0.7):]\n",
    "    \n",
    "    X_train = train_data[['btc_total_bitcoins', 'btc_transaction_fees']]\n",
    "    y_train = train_data[['btc_market_price']]\n",
    "    \n",
    "    X_test = test_data[['btc_total_bitcoins', 'btc_transaction_fees']]\n",
    "    y_test = test_data[['btc_market_price']]\n",
    "    ### 代码结束 ###\n",
    "    \n",
    "    return X_train, y_train, X_test, y_test\n",
    "\n",
    "# 加载数据\n",
    "X_train = split_dataset()[0]\n",
    "y_train = split_dataset()[1]\n",
    "X_test = split_dataset()[2]\n",
    "y_test = split_dataset()[3]\n",
    "\n",
    "\n",
    "\n",
    "def poly3():\n",
    "    \n",
    "    \"\"\"\n",
    "    参数:\n",
    "    无\n",
    "\n",
    "    返回:\n",
    "    mae -- 预测结果的 MAE 评价指标\n",
    "    \"\"\"\n",
    "    \n",
    "    ### 代码开始 ### (≈ 7 行代码)\n",
    "    poly_features = PolynomialFeatures(degree=3, include_bias=False)\n",
    "    poly_X_train = poly_features.fit_transform(X_train)\n",
    "    poly_X_test = poly_features.transform(X_test)\n",
    "\n",
    "    model = LinearRegression()\n",
    "    model.fit(poly_X_train, y_train)\n",
    "    pre_y = model.predict(poly_X_test)\n",
    "    \n",
    "    mae = mean_absolute_error(y_test, pre_y.flatten())\n",
    "    ### 代码结束 ###\n",
    "    \n",
    "    return mae\n",
    "\n",
    "\n",
    "\n",
    "\n",
    "def poly_plot(N):\n",
    " \n",
    "    \"\"\"\n",
    "    参数:\n",
    "    N -- 标量, 多项式次数\n",
    "\n",
    "    返回:\n",
    "    mse -- N 次多项式预测结果的 MSE 评价指标列表\n",
    "    \"\"\"\n",
    "    \n",
    "    m = 1\n",
    "    mse = []\n",
    "    \n",
    "    ### 代码开始 ### (≈ 6 行代码)\n",
    "    while m <= N:\n",
    "        model = make_pipeline(PolynomialFeatures(m, include_bias=False), LinearRegression())\n",
    "        model.fit(X_train, y_train)\n",
    "        pre_y = model.predict(X_test)\n",
    "        mse.append(mean_squared_error(y_test, pre_y.flatten()))\n",
    "        m = m + 1\n",
    "    \n",
    "    ### 代码结束 ###\n",
    "    \n",
    "    return mse\n",
    "\n",
    "\n",
    "mse = poly_plot(10)\n",
    "\n",
    "### 代码开始 ### (≈ 2 行代码)\n",
    "plt.plot([i for i in range(1, 11)], mse, 'r')\n",
    "plt.scatter([i for i in range(1, 11)], mse)\n",
    "### 代码结束 ###"
   ]
  },
  {
   "cell_type": "code",
   "execution_count": null,
   "id": "2a54edd3-2f47-4e8d-ae8c-95df4f88a777",
   "metadata": {},
   "outputs": [],
   "source": []
  }
 ],
 "metadata": {
  "kernelspec": {
   "display_name": "Python 3 (ipykernel)",
   "language": "python",
   "name": "python3"
  },
  "language_info": {
   "codemirror_mode": {
    "name": "ipython",
    "version": 3
   },
   "file_extension": ".py",
   "mimetype": "text/x-python",
   "name": "python",
   "nbconvert_exporter": "python",
   "pygments_lexer": "ipython3",
   "version": "3.10.14"
  }
 },
 "nbformat": 4,
 "nbformat_minor": 5
}
